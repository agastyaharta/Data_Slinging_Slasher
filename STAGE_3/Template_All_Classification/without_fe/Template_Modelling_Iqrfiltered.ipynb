{
 "cells": [
  {
   "cell_type": "markdown",
   "id": "bb287404",
   "metadata": {},
   "source": [
    "# Template Model Classification - Dataset IQRfiltered"
   ]
  },
  {
   "cell_type": "code",
   "execution_count": 1,
   "id": "32f28797",
   "metadata": {
    "ExecuteTime": {
     "end_time": "2022-06-11T00:38:54.101761Z",
     "start_time": "2022-06-11T00:38:54.090883Z"
    }
   },
   "outputs": [],
   "source": [
    "#import semua library yg bakalan dipake di sini, biar rapih\n",
    "#kalo kurang tambahin aja yaa wkwkwk\n",
    "\n",
    "\n",
    "import warnings\n",
    "warnings.filterwarnings('ignore')\n",
    "import pandas as pd\n",
    "import numpy as np\n",
    "\n",
    "from matplotlib import pyplot as plt\n",
    "from sklearn.model_selection import train_test_split\n",
    "\n",
    "\n",
    "from sklearn.linear_model import LogisticRegression\n",
    "from sklearn.neighbors import KNeighborsClassifier\n",
    "from sklearn.tree import DecisionTreeClassifier\n",
    "from sklearn.ensemble import RandomForestClassifier\n",
    "from sklearn.pipeline import Pipeline\n",
    "from sklearn.svm import SVC\n",
    "from sklearn.ensemble import AdaBoostClassifier\n",
    "\n",
    "\n",
    "from sklearn.metrics import roc_curve, roc_auc_score, confusion_matrix, precision_recall_curve, precision_score, recall_score, f1_score, accuracy_score, auc, classification_report\n",
    "from sklearn.metrics import ConfusionMatrixDisplay\n",
    "\n",
    "from xgboost import XGBClassifier"
   ]
  },
  {
   "cell_type": "markdown",
   "id": "00fcad57",
   "metadata": {},
   "source": [
    "# IMPORT & SPLIT DATASET"
   ]
  },
  {
   "cell_type": "code",
   "execution_count": 2,
   "id": "50bdc9f8",
   "metadata": {
    "ExecuteTime": {
     "end_time": "2022-06-11T00:38:55.370087Z",
     "start_time": "2022-06-11T00:38:54.302223Z"
    }
   },
   "outputs": [],
   "source": [
    "df_train_iqrfiltered = pd.read_csv('processed_dataset/Train/processed_Train_IQR_filtered.csv')\n",
    "df_test_iqrfiltered = pd.read_csv('processed_dataset/Test/processed_Test_IQR_filtered.csv')"
   ]
  },
  {
   "cell_type": "code",
   "execution_count": 3,
   "id": "3d20da58-855d-4345-8365-6b17345ab181",
   "metadata": {},
   "outputs": [
    {
     "name": "stdout",
     "output_type": "stream",
     "text": [
      "<class 'pandas.core.frame.DataFrame'>\n",
      "RangeIndex: 6400 entries, 0 to 6399\n",
      "Data columns (total 17 columns):\n",
      " #   Column                      Non-Null Count  Dtype  \n",
      "---  ------                      --------------  -----  \n",
      " 0   Customer_care_calls         6400 non-null   float64\n",
      " 1   Customer_rating             6400 non-null   float64\n",
      " 2   Cost_of_the_Product         6400 non-null   float64\n",
      " 3   Prior_purchases             6400 non-null   float64\n",
      " 4   Discount_offered            6400 non-null   float64\n",
      " 5   Weight_in_gms               6400 non-null   float64\n",
      " 6   Gender_encoded              6400 non-null   int64  \n",
      " 7   Product_importance_encoded  6400 non-null   int64  \n",
      " 8   Warehouse_block_A           6400 non-null   int64  \n",
      " 9   Warehouse_block_B           6400 non-null   int64  \n",
      " 10  Warehouse_block_C           6400 non-null   int64  \n",
      " 11  Warehouse_block_D           6400 non-null   int64  \n",
      " 12  Warehouse_block_F           6400 non-null   int64  \n",
      " 13  Mode_of_Shipment_Flight     6400 non-null   int64  \n",
      " 14  Mode_of_Shipment_Road       6400 non-null   int64  \n",
      " 15  Mode_of_Shipment_Ship       6400 non-null   int64  \n",
      " 16  arrived_late                6400 non-null   int64  \n",
      "dtypes: float64(6), int64(11)\n",
      "memory usage: 850.1 KB\n"
     ]
    }
   ],
   "source": [
    "df_train_iqrfiltered.info()"
   ]
  },
  {
   "cell_type": "code",
   "execution_count": 4,
   "id": "93ce8f01-b599-41a1-93af-86f576c6ec24",
   "metadata": {},
   "outputs": [
    {
     "name": "stdout",
     "output_type": "stream",
     "text": [
      "<class 'pandas.core.frame.DataFrame'>\n",
      "RangeIndex: 2200 entries, 0 to 2199\n",
      "Data columns (total 17 columns):\n",
      " #   Column                      Non-Null Count  Dtype  \n",
      "---  ------                      --------------  -----  \n",
      " 0   Customer_care_calls         2200 non-null   float64\n",
      " 1   Customer_rating             2200 non-null   float64\n",
      " 2   Cost_of_the_Product         2200 non-null   float64\n",
      " 3   Prior_purchases             2200 non-null   float64\n",
      " 4   Discount_offered            2200 non-null   float64\n",
      " 5   Weight_in_gms               2200 non-null   float64\n",
      " 6   arrived_late                2200 non-null   int64  \n",
      " 7   Gender_encoded              2200 non-null   int64  \n",
      " 8   Product_importance_encoded  2200 non-null   int64  \n",
      " 9   Warehouse_block_A           2200 non-null   int64  \n",
      " 10  Warehouse_block_B           2200 non-null   int64  \n",
      " 11  Warehouse_block_C           2200 non-null   int64  \n",
      " 12  Warehouse_block_D           2200 non-null   int64  \n",
      " 13  Warehouse_block_F           2200 non-null   int64  \n",
      " 14  Mode_of_Shipment_Flight     2200 non-null   int64  \n",
      " 15  Mode_of_Shipment_Road       2200 non-null   int64  \n",
      " 16  Mode_of_Shipment_Ship       2200 non-null   int64  \n",
      "dtypes: float64(6), int64(11)\n",
      "memory usage: 292.3 KB\n"
     ]
    }
   ],
   "source": [
    "df_test_iqrfiltered.info()"
   ]
  },
  {
   "cell_type": "code",
   "execution_count": 5,
   "id": "328beb83-5579-4bc2-8d73-9669e5671db5",
   "metadata": {},
   "outputs": [],
   "source": [
    "#split X dan Y \n",
    "#moga2 split train sama testnya bener ya KWKWKWKWK\n",
    "\n",
    "X_train = df_train_iqrfiltered.drop('arrived_late', axis = 1)\n",
    "y_train = df_train_iqrfiltered['arrived_late']\n",
    "X_test = df_test_iqrfiltered.drop('arrived_late', axis = 1)\n",
    "y_test = df_test_iqrfiltered['arrived_late']"
   ]
  },
  {
   "cell_type": "markdown",
   "id": "31709129",
   "metadata": {},
   "source": [
    "# FUNCTIONS"
   ]
  },
  {
   "cell_type": "code",
   "execution_count": 6,
   "id": "24dd5074",
   "metadata": {
    "ExecuteTime": {
     "end_time": "2022-06-11T00:38:55.374996Z",
     "start_time": "2022-06-11T00:38:55.371224Z"
    }
   },
   "outputs": [],
   "source": [
    "def eval_classification(model):\n",
    "    y_pred = model.predict(X_test)\n",
    "    y_pred_train = model.predict(X_train)\n",
    "    y_pred_proba = model.predict_proba(X_test)\n",
    "    y_pred_proba_train = model.predict_proba(X_train)\n",
    "    \n",
    "    print(\"Accuracy (Test Set): %.2f\" % accuracy_score(y_test, y_pred))\n",
    "    print(\"Precision (Test Set): %.2f\" % precision_score(y_test, y_pred))\n",
    "    print(\"Recall (Test Set): %.2f\" % recall_score(y_test, y_pred))\n",
    "    print(\"F1-Score (Test Set): %.2f\" % f1_score(y_test, y_pred))\n",
    "    \n",
    "    print(\"AUC (test-proba): %.2f\" % roc_auc_score(y_test, y_pred_proba[:, 1]))\n",
    "    print(\"AUC (train-proba): %.2f\" % roc_auc_score(y_train, y_pred_proba_train[:, 1]))\n",
    "#     print(\"AUC (test-label): %.2f\" % roc_auc_score(y_test, y_pred))\n",
    "#     print(\"AUC (train-label): %.2f\" % roc_auc_score(y_train, y_pred_train))\n",
    "    print('\\n------------------------\\n')\n",
    "    print(classification_report(y_test, y_pred))\n",
    "\n",
    "def show_feature_importance(model):\n",
    "    feat_importances = pd.Series(model.feature_importances_, index=X_train.columns)\n",
    "    ax = feat_importances.nlargest(25).plot(kind='barh', figsize=(10, 8))\n",
    "    ax.invert_yaxis()\n",
    "\n",
    "    plt.xlabel('score')\n",
    "    plt.ylabel('feature')\n",
    "    plt.title('feature importance score')\n",
    "\n",
    "#feature importance untuk SVM\n",
    "def feature_plot(classifier, feature_names, top_features=8):\n",
    "    coef = classifier.coef_.ravel()\n",
    "    top_positive_coefficients = np.argsort(coef)[-top_features:]\n",
    "    top_negative_coefficients = np.argsort(coef)[:top_features]\n",
    "    top_coefficients = np.hstack([top_negative_coefficients, top_positive_coefficients])\n",
    "    plt.figure(figsize=(18, 7))\n",
    "    colors = ['red' if c < 0 else 'blue' for c in coef[top_coefficients]]\n",
    "    plt.bar(np.arange(2 * top_features), coef[top_coefficients], color=colors)\n",
    "    feature_names = np.array(feature_names)\n",
    "    plt.xticks(np.arange(0, 0 + 2 * top_features), feature_names[top_coefficients], rotation=45, ha='right')\n",
    "    plt.show()\n",
    "\n",
    "def show_best_hyperparameter(model):\n",
    "    print(model.best_estimator_.get_params())"
   ]
  },
  {
   "cell_type": "code",
   "execution_count": 7,
   "id": "0f97b35e",
   "metadata": {
    "ExecuteTime": {
     "end_time": "2022-06-11T00:40:57.139198Z",
     "start_time": "2022-06-11T00:40:57.125054Z"
    }
   },
   "outputs": [],
   "source": [
    "def draw_learning_curve(param_values):\n",
    "    train_scores = []\n",
    "    test_scores = []\n",
    "\n",
    "    for c in param_values:\n",
    "        model = LogisticRegression(penalty='l2', C=c)\n",
    "        model.fit(X_train, y_train)\n",
    "\n",
    "        # eval on train\n",
    "        y_pred_train_proba = model.predict_proba(X_train)\n",
    "        train_auc = roc_auc_score(y_train, y_pred_train_proba[:,1])\n",
    "        train_scores.append(train_auc)\n",
    "\n",
    "        # eval on test\n",
    "        y_pred_proba = model.predict_proba(X_test)\n",
    "        test_auc = roc_auc_score(y_test, y_pred_proba[:,1])\n",
    "        test_scores.append(test_auc)\n",
    "\n",
    "        print('param value: ' + str(c) + '; train: ' + str(train_auc) + '; test: '+ str(test_auc))\n",
    "\n",
    "    plt.plot(C, train_scores, label='Train')\n",
    "    plt.plot(C, test_scores, label='Test')\n",
    "    plt.legend()\n",
    "    plt.show()"
   ]
  },
  {
   "cell_type": "markdown",
   "id": "602a8356",
   "metadata": {},
   "source": [
    "# AdaBoost (Riyan)"
   ]
  },
  {
   "cell_type": "code",
   "execution_count": 8,
   "id": "a8754a4d-a1d5-4b1f-953a-6a1ccd7c5180",
   "metadata": {},
   "outputs": [
    {
     "name": "stdout",
     "output_type": "stream",
     "text": [
      "Accuracy (Test Set): 0.67\n",
      "Precision (Test Set): 0.81\n",
      "Recall (Test Set): 0.58\n",
      "F1-Score (Test Set): 0.68\n",
      "AUC (test-proba): 0.75\n",
      "AUC (train-proba): 0.64\n",
      "\n",
      "------------------------\n",
      "\n",
      "              precision    recall  f1-score   support\n",
      "\n",
      "           0       0.56      0.79      0.66       887\n",
      "           1       0.81      0.58      0.68      1313\n",
      "\n",
      "    accuracy                           0.67      2200\n",
      "   macro avg       0.69      0.69      0.67      2200\n",
      "weighted avg       0.71      0.67      0.67      2200\n",
      "\n"
     ]
    }
   ],
   "source": [
    "ada = AdaBoostClassifier()\n",
    "ada.fit(X_train,y_train)\n",
    "\n",
    "y_pred = ada.predict(X_test)\n",
    "eval_classification(ada)"
   ]
  },
  {
   "cell_type": "code",
   "execution_count": 9,
   "id": "60717195-a4a3-4bdd-93bb-50e71e780d52",
   "metadata": {},
   "outputs": [
    {
     "data": {
      "image/png": "[encoded data removed]",
      "text/plain": [
       "<Figure size 720x576 with 1 Axes>"
      ]
     },
     "metadata": {
      "needs_background": "light"
     },
     "output_type": "display_data"
    }
   ],
   "source": [
    "show_feature_importance(ada)"
   ]
  },
  {
   "cell_type": "markdown",
   "id": "2d747759",
   "metadata": {},
   "source": [
    "# Logistic Regression (Arsya)"
   ]
  },
  {
   "cell_type": "code",
   "execution_count": 10,
   "id": "2b9d05ad",
   "metadata": {},
   "outputs": [
    {
     "name": "stdout",
     "output_type": "stream",
     "text": [
      "Accuracy (Test Set): 0.64\n",
      "Precision (Test Set): 0.71\n",
      "Recall (Test Set): 0.66\n",
      "F1-Score (Test Set): 0.69\n",
      "AUC (test-proba): 0.72\n",
      "AUC (train-proba): 0.60\n",
      "\n",
      "------------------------\n",
      "\n",
      "              precision    recall  f1-score   support\n",
      "\n",
      "           0       0.55      0.60      0.58       887\n",
      "           1       0.71      0.66      0.69      1313\n",
      "\n",
      "    accuracy                           0.64      2200\n",
      "   macro avg       0.63      0.63      0.63      2200\n",
      "weighted avg       0.65      0.64      0.64      2200\n",
      "\n"
     ]
    }
   ],
   "source": [
    "logres=LogisticRegression(random_state=42)\n",
    "logres.fit(X_train, y_train)\n",
    "\n",
    "y_pred = logres.predict(X_test)\n",
    "eval_classification(logres)"
   ]
  },
  {
   "cell_type": "code",
   "execution_count": 11,
   "id": "d50bcf89-2614-414c-9383-86cd3d97fc1c",
   "metadata": {},
   "outputs": [
    {
     "ename": "AttributeError",
     "evalue": "'LogisticRegression' object has no attribute 'feature_importances_'",
     "output_type": "error",
     "traceback": [
      "\u001b[1;31m---------------------------------------------------------------------------\u001b[0m",
      "\u001b[1;31mAttributeError\u001b[0m                            Traceback (most recent call last)",
      "Input \u001b[1;32mIn [11]\u001b[0m, in \u001b[0;36m<cell line: 1>\u001b[1;34m()\u001b[0m\n\u001b[1;32m----> 1\u001b[0m \u001b[43mshow_feature_importance\u001b[49m\u001b[43m(\u001b[49m\u001b[43mlogres\u001b[49m\u001b[43m)\u001b[49m\n",
      "Input \u001b[1;32mIn [6]\u001b[0m, in \u001b[0;36mshow_feature_importance\u001b[1;34m(model)\u001b[0m\n\u001b[0;32m     19\u001b[0m \u001b[38;5;28;01mdef\u001b[39;00m \u001b[38;5;21mshow_feature_importance\u001b[39m(model):\n\u001b[1;32m---> 20\u001b[0m     feat_importances \u001b[38;5;241m=\u001b[39m pd\u001b[38;5;241m.\u001b[39mSeries(\u001b[43mmodel\u001b[49m\u001b[38;5;241;43m.\u001b[39;49m\u001b[43mfeature_importances_\u001b[49m, index\u001b[38;5;241m=\u001b[39mX_train\u001b[38;5;241m.\u001b[39mcolumns)\n\u001b[0;32m     21\u001b[0m     ax \u001b[38;5;241m=\u001b[39m feat_importances\u001b[38;5;241m.\u001b[39mnlargest(\u001b[38;5;241m25\u001b[39m)\u001b[38;5;241m.\u001b[39mplot(kind\u001b[38;5;241m=\u001b[39m\u001b[38;5;124m'\u001b[39m\u001b[38;5;124mbarh\u001b[39m\u001b[38;5;124m'\u001b[39m, figsize\u001b[38;5;241m=\u001b[39m(\u001b[38;5;241m10\u001b[39m, \u001b[38;5;241m8\u001b[39m))\n\u001b[0;32m     22\u001b[0m     ax\u001b[38;5;241m.\u001b[39minvert_yaxis()\n",
      "\u001b[1;31mAttributeError\u001b[0m: 'LogisticRegression' object has no attribute 'feature_importances_'"
     ]
    }
   ],
   "source": [
    "show_feature_importance(logres)"
   ]
  },
  {
   "cell_type": "markdown",
   "id": "cac645f6",
   "metadata": {},
   "source": [
    "# Decision Tree (Edo)"
   ]
  },
  {
   "cell_type": "code",
   "execution_count": 12,
   "id": "9d693a69-ee91-443a-8e63-acd9b1b07edd",
   "metadata": {},
   "outputs": [
    {
     "name": "stdout",
     "output_type": "stream",
     "text": [
      "Accuracy (Test Set): 0.65\n",
      "Precision (Test Set): 0.70\n",
      "Recall (Test Set): 0.70\n",
      "F1-Score (Test Set): 0.70\n",
      "AUC (test-proba): 0.63\n",
      "AUC (train-proba): 1.00\n",
      "\n",
      "------------------------\n",
      "\n",
      "              precision    recall  f1-score   support\n",
      "\n",
      "           0       0.56      0.57      0.56       887\n",
      "           1       0.70      0.70      0.70      1313\n",
      "\n",
      "    accuracy                           0.65      2200\n",
      "   macro avg       0.63      0.63      0.63      2200\n",
      "weighted avg       0.65      0.65      0.65      2200\n",
      "\n"
     ]
    }
   ],
   "source": [
    "dt = DecisionTreeClassifier(random_state=42)\n",
    "dt.fit(X_train,y_train)\n",
    "\n",
    "y_pred = dt.predict(X_test)\n",
    "eval_classification(dt)"
   ]
  },
  {
   "cell_type": "code",
   "execution_count": 13,
   "id": "25a7dd9c-e67f-490e-b1d5-617a276eed4e",
   "metadata": {},
   "outputs": [
    {
     "data": {
      "image/png": "[encoded data removed]",
      "text/plain": [
       "<Figure size 720x576 with 1 Axes>"
      ]
     },
     "metadata": {
      "needs_background": "light"
     },
     "output_type": "display_data"
    }
   ],
   "source": [
    "show_feature_importance(dt)"
   ]
  },
  {
   "cell_type": "markdown",
   "id": "1d9c415d",
   "metadata": {},
   "source": [
    "# Random Forest(Afif)"
   ]
  },
  {
   "cell_type": "code",
   "execution_count": 14,
   "id": "d99c97f8",
   "metadata": {},
   "outputs": [
    {
     "name": "stdout",
     "output_type": "stream",
     "text": [
      "Accuracy (Test Set): 0.65\n",
      "Precision (Test Set): 0.75\n",
      "Recall (Test Set): 0.63\n",
      "F1-Score (Test Set): 0.68\n",
      "AUC (test-proba): 0.74\n",
      "AUC (train-proba): 1.00\n",
      "\n",
      "------------------------\n",
      "\n",
      "              precision    recall  f1-score   support\n",
      "\n",
      "           0       0.56      0.70      0.62       887\n",
      "           1       0.75      0.63      0.68      1313\n",
      "\n",
      "    accuracy                           0.65      2200\n",
      "   macro avg       0.65      0.66      0.65      2200\n",
      "weighted avg       0.67      0.65      0.66      2200\n",
      "\n"
     ]
    }
   ],
   "source": [
    "rf = RandomForestClassifier()\n",
    "rf.fit(X_train, y_train)\n",
    "\n",
    "y_pred = rf.predict(X_test)\n",
    "eval_classification(rf)"
   ]
  },
  {
   "cell_type": "markdown",
   "id": "46a2655d-f87c-4d31-8eb3-097176000282",
   "metadata": {},
   "source": [
    "Berdasarkan nilai AUC model yang dihasilkan dari algoritma ini mengalami overfitting, diperlukan penggunaan model yang lebih sederhana, data yang lebih banyak atau hyperparameter tunning untuk mendapatkan model yang best fit.\n",
    "\n",
    "Pada pemilihan model, tim berfokus untuk mengurangi keselahan prediksi shipping yang sampai tepat waktu, padahal aktualnya telat (mengurangi false positive). Nilai tersebut bisa didapatkan dari precision pada nilai target '0' atau recall pada nilai target '1'. Dari nilai precision & recall, model ini telah memiliki nilai yang cukup baik."
   ]
  },
  {
   "cell_type": "code",
   "execution_count": 15,
   "id": "4771b8f6-6c7f-441b-8250-4d7e80b7d872",
   "metadata": {},
   "outputs": [
    {
     "data": {
      "image/png": "[encoded data removed]",
      "text/plain": [
       "<Figure size 720x576 with 1 Axes>"
      ]
     },
     "metadata": {
      "needs_background": "light"
     },
     "output_type": "display_data"
    }
   ],
   "source": [
    "show_feature_importance(rf)"
   ]
  },
  {
   "cell_type": "markdown",
   "id": "c84393a4-fe0c-4f40-a019-20918247b35c",
   "metadata": {},
   "source": [
    "Pada model ini, top 3 feature yang didapatkan adalah:\n",
    "1. Weight_in_gms\n",
    "2. Cost_of_the_product\n",
    "3. Discount_offered"
   ]
  },
  {
   "cell_type": "markdown",
   "id": "d8dd0d38",
   "metadata": {},
   "source": [
    "# Support Vector Classifier (Ahdan)"
   ]
  },
  {
   "cell_type": "code",
   "execution_count": 16,
   "id": "3ecc02ec",
   "metadata": {},
   "outputs": [
    {
     "name": "stdout",
     "output_type": "stream",
     "text": [
      "Accuracy (Test Set): 0.66\n",
      "Precision (Test Set): 0.82\n",
      "Recall (Test Set): 0.56\n",
      "F1-Score (Test Set): 0.66\n",
      "AUC (test-proba): 0.73\n",
      "AUC (train-proba): 0.72\n",
      "\n",
      "------------------------\n",
      "\n",
      "              precision    recall  f1-score   support\n",
      "\n",
      "           0       0.56      0.82      0.66       887\n",
      "           1       0.82      0.56      0.66      1313\n",
      "\n",
      "    accuracy                           0.66      2200\n",
      "   macro avg       0.69      0.69      0.66      2200\n",
      "weighted avg       0.71      0.66      0.66      2200\n",
      "\n"
     ]
    }
   ],
   "source": [
    "svc = SVC(probability=True, random_state=42)\n",
    "svc.fit(X_train, y_train)\n",
    "\n",
    "y_pred = svc.predict(X_test)\n",
    "eval_classification(svc)"
   ]
  },
  {
   "cell_type": "markdown",
   "id": "0c981508",
   "metadata": {},
   "source": [
    "# K-Nearest Neighbor (Agas)"
   ]
  },
  {
   "cell_type": "code",
   "execution_count": 17,
   "id": "b55ecca1",
   "metadata": {},
   "outputs": [
    {
     "name": "stdout",
     "output_type": "stream",
     "text": [
      "Accuracy (Test Set): 0.64\n",
      "Precision (Test Set): 0.72\n",
      "Recall (Test Set): 0.65\n",
      "F1-Score (Test Set): 0.68\n",
      "AUC (test-proba): 0.70\n",
      "AUC (train-proba): 0.80\n",
      "\n",
      "------------------------\n",
      "\n",
      "              precision    recall  f1-score   support\n",
      "\n",
      "           0       0.55      0.62      0.58       887\n",
      "           1       0.72      0.65      0.68      1313\n",
      "\n",
      "    accuracy                           0.64      2200\n",
      "   macro avg       0.63      0.64      0.63      2200\n",
      "weighted avg       0.65      0.64      0.64      2200\n",
      "\n"
     ]
    }
   ],
   "source": [
    "knn = KNeighborsClassifier()\n",
    "\n",
    "knn.fit(X_train,y_train)\n",
    "y_pred = knn.predict(X_test)\n",
    "eval_classification(knn)"
   ]
  },
  {
   "cell_type": "markdown",
   "id": "dda66f33",
   "metadata": {},
   "source": [
    "# XGBoost (Almas)"
   ]
  },
  {
   "cell_type": "code",
   "execution_count": 18,
   "id": "816601ee",
   "metadata": {},
   "outputs": [
    {
     "name": "stdout",
     "output_type": "stream",
     "text": [
      "Accuracy (Test Set): 0.66\n",
      "Precision (Test Set): 0.75\n",
      "Recall (Test Set): 0.65\n",
      "F1-Score (Test Set): 0.69\n",
      "AUC (test-proba): 0.73\n",
      "AUC (train-proba): 0.97\n",
      "\n",
      "------------------------\n",
      "\n",
      "              precision    recall  f1-score   support\n",
      "\n",
      "           0       0.56      0.67      0.61       887\n",
      "           1       0.75      0.65      0.69      1313\n",
      "\n",
      "    accuracy                           0.66      2200\n",
      "   macro avg       0.65      0.66      0.65      2200\n",
      "weighted avg       0.67      0.66      0.66      2200\n",
      "\n"
     ]
    }
   ],
   "source": [
    "xgb = XGBClassifier()\n",
    "\n",
    "xgb.fit(X_train,y_train)\n",
    "\n",
    "y_pred = svc.predict(X_test)\n",
    "eval_classification(xgb)"
   ]
  }
 ],
 "metadata": {
  "kernelspec": {
   "display_name": "Python 3 (ipykernel)",
   "language": "python",
   "name": "python3"
  },
  "language_info": {
   "codemirror_mode": {
    "name": "ipython",
    "version": 3
   },
   "file_extension": ".py",
   "mimetype": "text/x-python",
   "name": "python",
   "nbconvert_exporter": "python",
   "pygments_lexer": "ipython3",
   "version": "3.9.12"
  },
  "latex_envs": {
   "LaTeX_envs_menu_present": true,
   "autoclose": false,
   "autocomplete": true,
   "bibliofile": "biblio.bib",
   "cite_by": "apalike",
   "current_citInitial": 1,
   "eqLabelWithNumbers": true,
   "eqNumInitial": 1,
   "hotkeys": {
    "equation": "Ctrl-E",
    "itemize": "Ctrl-I"
   },
   "labels_anchors": false,
   "latex_user_defs": false,
   "report_style_numbering": false,
   "user_envs_cfg": false
  },
  "toc": {
   "base_numbering": 1,
   "nav_menu": {},
   "number_sections": true,
   "sideBar": true,
   "skip_h1_title": false,
   "title_cell": "Table of Contents",
   "title_sidebar": "Contents",
   "toc_cell": false,
   "toc_position": {
    "height": "calc(100% - 180px)",
    "left": "10px",
    "top": "150px",
    "width": "165px"
   },
   "toc_section_display": true,
   "toc_window_display": true
  },
  "vscode": {
   "interpreter": {
    "hash": "40d3a090f54c6569ab1632332b64b2c03c39dcf918b08424e98f38b5ae0af88f"
   }
  }
 },
 "nbformat": 4,
 "nbformat_minor": 5
}
