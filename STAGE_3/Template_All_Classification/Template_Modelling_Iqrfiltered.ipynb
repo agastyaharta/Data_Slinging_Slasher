{
 "cells": [
  {
   "cell_type": "markdown",
   "id": "bb287404",
   "metadata": {},
   "source": [
    "# Template Model Classification - Dataset IQRfiltered"
   ]
  },
  {
   "cell_type": "code",
   "execution_count": 1,
   "id": "32f28797",
   "metadata": {
    "ExecuteTime": {
     "end_time": "2022-06-11T00:38:54.101761Z",
     "start_time": "2022-06-11T00:38:54.090883Z"
    }
   },
   "outputs": [],
   "source": [
    "#import semua library yg bakalan dipake di sini, biar rapih\n",
    "#kalo kurang tambahin aja yaa wkwkwk\n",
    "\n",
    "import warnings\n",
    "warnings.filterwarnings('ignore')\n",
    "import pandas as pd\n",
    "import numpy as np\n",
    "\n",
    "from matplotlib import pyplot as plt\n",
    "from sklearn.model_selection import train_test_split\n",
    "\n",
    "\n",
    "from sklearn.linear_model import LogisticRegression\n",
    "from sklearn.neighbors import KNeighborsClassifier\n",
    "from sklearn.tree import DecisionTreeClassifier\n",
    "from sklearn.pipeline import Pipeline\n",
    "from sklearn.ensemble import RandomForestClassifier\n",
    "\n",
    "\n",
    "from sklearn.metrics import roc_curve, roc_auc_score, confusion_matrix, precision_recall_curve, precision_score, recall_score, f1_score, accuracy_score, auc, classification_report\n",
    "from sklearn.metrics import ConfusionMatrixDisplay\n",
    "\n",
    "from sklearn.ensemble import AdaBoostClassifier\n",
    "ada = AdaBoostClassifier()"
   ]
  },
  {
   "cell_type": "code",
   "execution_count": 2,
   "id": "50bdc9f8",
   "metadata": {
    "ExecuteTime": {
     "end_time": "2022-06-11T00:38:55.370087Z",
     "start_time": "2022-06-11T00:38:54.302223Z"
    }
   },
   "outputs": [],
   "source": [
    "df_train_iqrfiltered = pd.read_csv('processed_dataset/Train/processed_Train_IQR_filtered.csv')\n",
    "df_test_iqrfiltered = pd.read_csv('processed_dataset/Test/processed_Test_IQR_filtered.csv')"
   ]
  },
  {
   "cell_type": "code",
   "execution_count": 3,
   "id": "3d20da58-855d-4345-8365-6b17345ab181",
   "metadata": {},
   "outputs": [
    {
     "name": "stdout",
     "output_type": "stream",
     "text": [
      "<class 'pandas.core.frame.DataFrame'>\n",
      "RangeIndex: 6400 entries, 0 to 6399\n",
      "Data columns (total 17 columns):\n",
      " #   Column                      Non-Null Count  Dtype  \n",
      "---  ------                      --------------  -----  \n",
      " 0   Customer_care_calls         6400 non-null   float64\n",
      " 1   Customer_rating             6400 non-null   float64\n",
      " 2   Cost_of_the_Product         6400 non-null   float64\n",
      " 3   Prior_purchases             6400 non-null   float64\n",
      " 4   Discount_offered            6400 non-null   float64\n",
      " 5   Weight_in_gms               6400 non-null   float64\n",
      " 6   Gender_encoded              6400 non-null   int64  \n",
      " 7   Product_importance_encoded  6400 non-null   int64  \n",
      " 8   Warehouse_block_A           6400 non-null   int64  \n",
      " 9   Warehouse_block_B           6400 non-null   int64  \n",
      " 10  Warehouse_block_C           6400 non-null   int64  \n",
      " 11  Warehouse_block_D           6400 non-null   int64  \n",
      " 12  Warehouse_block_F           6400 non-null   int64  \n",
      " 13  Mode_of_Shipment_Flight     6400 non-null   int64  \n",
      " 14  Mode_of_Shipment_Road       6400 non-null   int64  \n",
      " 15  Mode_of_Shipment_Ship       6400 non-null   int64  \n",
      " 16  arrived_late                6400 non-null   int64  \n",
      "dtypes: float64(6), int64(11)\n",
      "memory usage: 850.1 KB\n"
     ]
    }
   ],
   "source": [
    "df_train_iqrfiltered.info()"
   ]
  },
  {
   "cell_type": "code",
   "execution_count": 4,
   "id": "93ce8f01-b599-41a1-93af-86f576c6ec24",
   "metadata": {},
   "outputs": [
    {
     "name": "stdout",
     "output_type": "stream",
     "text": [
      "<class 'pandas.core.frame.DataFrame'>\n",
      "RangeIndex: 6341 entries, 0 to 6340\n",
      "Data columns (total 17 columns):\n",
      " #   Column                      Non-Null Count  Dtype  \n",
      "---  ------                      --------------  -----  \n",
      " 0   Customer_care_calls         6341 non-null   float64\n",
      " 1   Customer_rating             6341 non-null   float64\n",
      " 2   Cost_of_the_Product         6341 non-null   float64\n",
      " 3   Prior_purchases             6341 non-null   float64\n",
      " 4   Discount_offered            6341 non-null   float64\n",
      " 5   Weight_in_gms               6341 non-null   float64\n",
      " 6   Gender_encoded              6341 non-null   int64  \n",
      " 7   Product_importance_encoded  6341 non-null   int64  \n",
      " 8   Warehouse_block_A           6341 non-null   int64  \n",
      " 9   Warehouse_block_B           6341 non-null   int64  \n",
      " 10  Warehouse_block_C           6341 non-null   int64  \n",
      " 11  Warehouse_block_D           6341 non-null   int64  \n",
      " 12  Warehouse_block_F           6341 non-null   int64  \n",
      " 13  Mode_of_Shipment_Flight     6341 non-null   int64  \n",
      " 14  Mode_of_Shipment_Road       6341 non-null   int64  \n",
      " 15  Mode_of_Shipment_Ship       6341 non-null   int64  \n",
      " 16  arrived_late                6341 non-null   int64  \n",
      "dtypes: float64(6), int64(11)\n",
      "memory usage: 842.3 KB\n"
     ]
    }
   ],
   "source": [
    "df_test_iqrfiltered.info()"
   ]
  },
  {
   "cell_type": "code",
   "execution_count": 5,
   "id": "328beb83-5579-4bc2-8d73-9669e5671db5",
   "metadata": {},
   "outputs": [],
   "source": [
    "#split X dan Y \n",
    "#moga2 split train sama testnya bener ya KWKWKWKWK\n",
    "\n",
    "X_train = df_train_iqrfiltered.drop('arrived_late', axis = 1)\n",
    "y_train = df_train_iqrfiltered['arrived_late']\n",
    "X_test = df_test_iqrfiltered.drop('arrived_late', axis = 1)\n",
    "y_test = df_test_iqrfiltered['arrived_late']"
   ]
  },
  {
   "cell_type": "code",
   "execution_count": 6,
   "id": "24dd5074",
   "metadata": {
    "ExecuteTime": {
     "end_time": "2022-06-11T00:38:55.374996Z",
     "start_time": "2022-06-11T00:38:55.371224Z"
    }
   },
   "outputs": [],
   "source": [
    "def eval_classification(model):\n",
    "    y_pred = model.predict(X_test)\n",
    "    y_pred_train = model.predict(X_train)\n",
    "    y_pred_proba = model.predict_proba(X_test)\n",
    "    y_pred_proba_train = model.predict_proba(X_train)\n",
    "    \n",
    "    print(\"Accuracy (Test Set): %.2f\" % accuracy_score(y_test, y_pred))\n",
    "    print(\"Precision (Test Set): %.2f\" % precision_score(y_test, y_pred))\n",
    "    print(\"Recall (Test Set): %.2f\" % recall_score(y_test, y_pred))\n",
    "    print(\"F1-Score (Test Set): %.2f\" % f1_score(y_test, y_pred))\n",
    "    \n",
    "    print(\"AUC (test-proba): %.2f\" % roc_auc_score(y_test, y_pred_proba[:, 1]))\n",
    "    print(\"AUC (train-proba): %.2f\" % roc_auc_score(y_train, y_pred_proba_train[:, 1]))\n",
    "#     print(\"AUC (test-label): %.2f\" % roc_auc_score(y_test, y_pred))\n",
    "#     print(\"AUC (train-label): %.2f\" % roc_auc_score(y_train, y_pred_train))\n",
    "    print('\\n------------------------\\n')\n",
    "    print(classification_report(y_test, y_pred))\n",
    "\n",
    "def show_feature_importance(model):\n",
    "    feat_importances = pd.Series(model.feature_importances_, index=X_train.columns)\n",
    "    ax = feat_importances.nlargest(25).plot(kind='barh', figsize=(10, 8))\n",
    "    ax.invert_yaxis()\n",
    "\n",
    "    plt.xlabel('score')\n",
    "    plt.ylabel('feature')\n",
    "    plt.title('feature importance score')\n",
    "\n",
    "def show_best_hyperparameter(model):\n",
    "    print(model.best_estimator_.get_params())"
   ]
  },
  {
   "cell_type": "code",
   "execution_count": 7,
   "id": "4c38ab47",
   "metadata": {
    "ExecuteTime": {
     "end_time": "2022-06-11T00:38:55.858464Z",
     "start_time": "2022-06-11T00:38:55.837196Z"
    }
   },
   "outputs": [],
   "source": [
    "# df.Fraud_Decoded.value_counts(normalize=True)"
   ]
  },
  {
   "cell_type": "code",
   "execution_count": 8,
   "id": "0f97b35e",
   "metadata": {
    "ExecuteTime": {
     "end_time": "2022-06-11T00:40:57.139198Z",
     "start_time": "2022-06-11T00:40:57.125054Z"
    }
   },
   "outputs": [],
   "source": [
    "def draw_learning_curve(param_values):\n",
    "    train_scores = []\n",
    "    test_scores = []\n",
    "\n",
    "    for c in param_values:\n",
    "        model = LogisticRegression(penalty='l2', C=c)\n",
    "        model.fit(X_train, y_train)\n",
    "\n",
    "        # eval on train\n",
    "        y_pred_train_proba = model.predict_proba(X_train)\n",
    "        train_auc = roc_auc_score(y_train, y_pred_train_proba[:,1])\n",
    "        train_scores.append(train_auc)\n",
    "\n",
    "        # eval on test\n",
    "        y_pred_proba = model.predict_proba(X_test)\n",
    "        test_auc = roc_auc_score(y_test, y_pred_proba[:,1])\n",
    "        test_scores.append(test_auc)\n",
    "\n",
    "        print('param value: ' + str(c) + '; train: ' + str(train_auc) + '; test: '+ str(test_auc))\n",
    "\n",
    "    plt.plot(C, train_scores, label='Train')\n",
    "    plt.plot(C, test_scores, label='Test')\n",
    "    plt.legend()\n",
    "    plt.show()"
   ]
  },
  {
   "cell_type": "markdown",
   "id": "602a8356",
   "metadata": {},
   "source": [
    "# AdaBoost (Riyan)"
   ]
  },
  {
   "cell_type": "code",
   "execution_count": 9,
   "id": "a8754a4d-a1d5-4b1f-953a-6a1ccd7c5180",
   "metadata": {},
   "outputs": [
    {
     "name": "stdout",
     "output_type": "stream",
     "text": [
      "Accuracy (Test Set): 0.61\n",
      "Precision (Test Set): 0.67\n",
      "Recall (Test Set): 0.43\n",
      "F1-Score (Test Set): 0.52\n",
      "AUC (test-proba): 0.64\n",
      "AUC (train-proba): 0.64\n",
      "\n",
      "------------------------\n",
      "\n",
      "              precision    recall  f1-score   support\n",
      "\n",
      "           0       0.58      0.79      0.67      3200\n",
      "           1       0.67      0.43      0.52      3141\n",
      "\n",
      "    accuracy                           0.61      6341\n",
      "   macro avg       0.63      0.61      0.60      6341\n",
      "weighted avg       0.63      0.61      0.60      6341\n",
      "\n"
     ]
    }
   ],
   "source": [
    "ada.fit(X_train,y_train)\n",
    "eval_classification(ada)"
   ]
  },
  {
   "cell_type": "code",
   "execution_count": 10,
   "id": "60717195-a4a3-4bdd-93bb-50e71e780d52",
   "metadata": {},
   "outputs": [
    {
     "data": {
      "image/png": "[encoded data removed]",
      "text/plain": [
       "<Figure size 720x576 with 1 Axes>"
      ]
     },
     "metadata": {
      "needs_background": "light"
     },
     "output_type": "display_data"
    }
   ],
   "source": [
    "show_feature_importance(ada)"
   ]
  },
  {
   "cell_type": "markdown",
   "id": "2d747759",
   "metadata": {},
   "source": [
    "# Logistic Regression"
   ]
  },
  {
   "cell_type": "code",
   "execution_count": null,
   "id": "2b9d05ad",
   "metadata": {},
   "outputs": [],
   "source": []
  },
  {
   "cell_type": "markdown",
   "id": "cac645f6",
   "metadata": {},
   "source": [
    "# Decision Tree"
   ]
  },
  {
   "cell_type": "markdown",
   "id": "1d9c415d",
   "metadata": {},
   "source": [
    "# Random Forest(Afif)"
   ]
  },
  {
   "cell_type": "code",
   "execution_count": 11,
   "id": "d99c97f8",
   "metadata": {},
   "outputs": [
    {
     "name": "stdout",
     "output_type": "stream",
     "text": [
      "Accuracy (Test Set): 1.00\n",
      "Precision (Test Set): 1.00\n",
      "Recall (Test Set): 1.00\n",
      "F1-Score (Test Set): 1.00\n",
      "AUC (test-proba): 1.00\n",
      "AUC (train-proba): 1.00\n",
      "\n",
      "------------------------\n",
      "\n",
      "              precision    recall  f1-score   support\n",
      "\n",
      "           0       1.00      1.00      1.00      3200\n",
      "           1       1.00      1.00      1.00      3141\n",
      "\n",
      "    accuracy                           1.00      6341\n",
      "   macro avg       1.00      1.00      1.00      6341\n",
      "weighted avg       1.00      1.00      1.00      6341\n",
      "\n"
     ]
    }
   ],
   "source": [
    "rf = RandomForestClassifier()\n",
    "rf.fit(X_train, y_train)\n",
    "\n",
    "y_pred = rf.predict(X_test)\n",
    "eval_classification(rf)"
   ]
  },
  {
   "cell_type": "markdown",
   "id": "46a2655d-f87c-4d31-8eb3-097176000282",
   "metadata": {},
   "source": [
    "Semua hasil evaluasi memiliki nilai 1.0 hal yang sangat mustahil di dunia nyata, apakah ada kesalahan? Diperlukan tunning untuk mengurangi nilainya."
   ]
  },
  {
   "cell_type": "code",
   "execution_count": 13,
   "id": "4771b8f6-6c7f-441b-8250-4d7e80b7d872",
   "metadata": {},
   "outputs": [
    {
     "data": {
      "image/png": "[encoded data removed]",
      "text/plain": [
       "<Figure size 720x576 with 1 Axes>"
      ]
     },
     "metadata": {
      "needs_background": "light"
     },
     "output_type": "display_data"
    }
   ],
   "source": [
    "show_feature_importance(rf)"
   ]
  },
  {
   "cell_type": "markdown",
   "id": "c84393a4-fe0c-4f40-a019-20918247b35c",
   "metadata": {},
   "source": [
    "Feature yang paling penting dari model ini adalah weight_in_gms"
   ]
  },
  {
   "cell_type": "markdown",
   "id": "d8dd0d38",
   "metadata": {},
   "source": [
    "# K-Nearest Neighbor"
   ]
  },
  {
   "cell_type": "code",
   "execution_count": null,
   "id": "b55ecca1",
   "metadata": {},
   "outputs": [],
   "source": []
  },
  {
   "cell_type": "markdown",
   "id": "dda66f33",
   "metadata": {},
   "source": [
    "# XGBoost"
   ]
  },
  {
   "cell_type": "code",
   "execution_count": 9,
   "id": "816601ee",
   "metadata": {},
   "outputs": [],
   "source": [
    "from xgboost import XGBClassifier\n",
    "xgb = XGBClassifier()"
   ]
  },
  {
   "cell_type": "code",
   "execution_count": 10,
   "id": "8bc8d9a4-16c7-4352-932b-842158795c98",
   "metadata": {},
   "outputs": [
    {
     "name": "stdout",
     "output_type": "stream",
     "text": [
      "Accuracy (Test Set): 0.90\n",
      "Precision (Test Set): 0.94\n",
      "Recall (Test Set): 0.86\n",
      "F1-Score (Test Set): 0.90\n",
      "AUC (test-proba): 0.97\n",
      "AUC (train-proba): 0.97\n",
      "\n",
      "------------------------\n",
      "\n",
      "              precision    recall  f1-score   support\n",
      "\n",
      "           0       0.87      0.95      0.91      3200\n",
      "           1       0.94      0.86      0.90      3141\n",
      "\n",
      "    accuracy                           0.90      6341\n",
      "   macro avg       0.91      0.90      0.90      6341\n",
      "weighted avg       0.91      0.90      0.90      6341\n",
      "\n"
     ]
    }
   ],
   "source": [
    "xgb.fit(X_train,y_train)\n",
    "eval_classification(xgb)"
   ]
  },
  {
   "cell_type": "code",
   "execution_count": 11,
   "id": "86e56c20-fa3d-48b4-bc9e-b38b98bea7d5",
   "metadata": {},
   "outputs": [
    {
     "data": {
      "image/png": "[encoded data removed]",
      "text/plain": [
       "<Figure size 720x576 with 1 Axes>"
      ]
     },
     "metadata": {
      "needs_background": "light"
     },
     "output_type": "display_data"
    }
   ],
   "source": [
    "show_feature_importance(xgb)"
   ]
  }
 ],
 "metadata": {
  "kernelspec": {
   "display_name": "Python 3 (ipykernel)",
   "language": "python",
   "name": "python3"
  },
  "language_info": {
   "codemirror_mode": {
    "name": "ipython",
    "version": 3
   },
   "file_extension": ".py",
   "mimetype": "text/x-python",
   "name": "python",
   "nbconvert_exporter": "python",
   "pygments_lexer": "ipython3",
   "version": "3.9.12"
  },
  "latex_envs": {
   "LaTeX_envs_menu_present": true,
   "autoclose": false,
   "autocomplete": true,
   "bibliofile": "biblio.bib",
   "cite_by": "apalike",
   "current_citInitial": 1,
   "eqLabelWithNumbers": true,
   "eqNumInitial": 1,
   "hotkeys": {
    "equation": "Ctrl-E",
    "itemize": "Ctrl-I"
   },
   "labels_anchors": false,
   "latex_user_defs": false,
   "report_style_numbering": false,
   "user_envs_cfg": false
  },
  "toc": {
   "base_numbering": 1,
   "nav_menu": {},
   "number_sections": true,
   "sideBar": true,
   "skip_h1_title": false,
   "title_cell": "Table of Contents",
   "title_sidebar": "Contents",
   "toc_cell": false,
   "toc_position": {
    "height": "calc(100% - 180px)",
    "left": "10px",
    "top": "150px",
    "width": "165px"
   },
   "toc_section_display": true,
   "toc_window_display": true
  }
 },
 "nbformat": 4,
 "nbformat_minor": 5
}
