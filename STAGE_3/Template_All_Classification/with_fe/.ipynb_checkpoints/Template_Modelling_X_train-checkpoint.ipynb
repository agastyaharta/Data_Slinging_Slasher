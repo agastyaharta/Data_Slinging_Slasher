{
 "cells": [
  {
   "cell_type": "markdown",
   "id": "bb287404",
   "metadata": {},
   "source": [
    "# Template Model Classification - Dataset X_train"
   ]
  },
  {
   "cell_type": "code",
   "execution_count": 1,
   "id": "32f28797",
   "metadata": {
    "ExecuteTime": {
     "end_time": "2022-06-11T00:38:54.101761Z",
     "start_time": "2022-06-11T00:38:54.090883Z"
    }
   },
   "outputs": [],
   "source": [
    "#import semua library yg bakalan dipake di sini, biar rapih\n",
    "#kalo kurang tambahin aja yaa wkwkwk\n",
    "\n",
    "import warnings\n",
    "warnings.filterwarnings('ignore')\n",
    "import pandas as pd\n",
    "import numpy as np\n",
    "\n",
    "from matplotlib import pyplot as plt\n",
    "from sklearn.model_selection import train_test_split\n",
    "\n",
    "\n",
    "from sklearn.linear_model import LogisticRegression\n",
    "from sklearn.neighbors import KNeighborsClassifier\n",
    "from sklearn.tree import DecisionTreeClassifier\n",
    "from sklearn.ensemble import RandomForestClassifier\n",
    "from sklearn.pipeline import Pipeline\n",
    "from sklearn.svm import SVC\n",
    "from sklearn.ensemble import AdaBoostClassifier\n",
    "\n",
    "\n",
    "from sklearn.metrics import roc_curve, roc_auc_score, confusion_matrix, precision_recall_curve, precision_score, recall_score, f1_score, accuracy_score, auc, classification_report\n",
    "from sklearn.metrics import ConfusionMatrixDisplay\n",
    "\n",
    "from xgboost import XGBClassifier"
   ]
  },
  {
   "cell_type": "markdown",
   "id": "7ca9d011",
   "metadata": {},
   "source": [
    "# IMPORT & SPLIT DATASET "
   ]
  },
  {
   "cell_type": "code",
   "execution_count": 2,
   "id": "50bdc9f8",
   "metadata": {
    "ExecuteTime": {
     "end_time": "2022-06-11T00:38:55.370087Z",
     "start_time": "2022-06-11T00:38:54.302223Z"
    }
   },
   "outputs": [],
   "source": [
    "df_train_x_train = pd.read_csv('processed_dataset/Train/processed_Train_X_train.csv')\n",
    "df_test_x_train = pd.read_csv('processed_dataset/Test/processed_Test_X_train.csv')"
   ]
  },
  {
   "cell_type": "code",
   "execution_count": 3,
   "id": "3d20da58-855d-4345-8365-6b17345ab181",
   "metadata": {},
   "outputs": [
    {
     "name": "stdout",
     "output_type": "stream",
     "text": [
      "<class 'pandas.core.frame.DataFrame'>\n",
      "RangeIndex: 8799 entries, 0 to 8798\n",
      "Data columns (total 17 columns):\n",
      " #   Column                 Non-Null Count  Dtype  \n",
      "---  ------                 --------------  -----  \n",
      " 0   Customer_care_calls    8799 non-null   float64\n",
      " 1   Discount_offered       8799 non-null   float64\n",
      " 2   Weight_in_gms          8799 non-null   float64\n",
      " 3   profit                 8799 non-null   float64\n",
      " 4   profit_minus_discount  8799 non-null   float64\n",
      " 5   shipping_cost          8799 non-null   float64\n",
      " 6   is_expensive           8799 non-null   int64  \n",
      " 7   is_important           8799 non-null   int64  \n",
      " 8   cust_frequency         8799 non-null   int64  \n",
      " 9   Warehouse_block:B      8799 non-null   int64  \n",
      " 10  Warehouse_block:C      8799 non-null   int64  \n",
      " 11  Warehouse_block:D      8799 non-null   int64  \n",
      " 12  Warehouse_block:F      8799 non-null   int64  \n",
      " 13  Mode_of_Shipment:Road  8799 non-null   int64  \n",
      " 14  Mode_of_Shipment:Ship  8799 non-null   int64  \n",
      " 15  Gender                 8799 non-null   int64  \n",
      " 16  arrived_late           8799 non-null   int64  \n",
      "dtypes: float64(6), int64(11)\n",
      "memory usage: 1.1 MB\n"
     ]
    }
   ],
   "source": [
    "df_train_x_train.info()"
   ]
  },
  {
   "cell_type": "code",
   "execution_count": 4,
   "id": "93ce8f01-b599-41a1-93af-86f576c6ec24",
   "metadata": {},
   "outputs": [
    {
     "name": "stdout",
     "output_type": "stream",
     "text": [
      "<class 'pandas.core.frame.DataFrame'>\n",
      "RangeIndex: 2200 entries, 0 to 2199\n",
      "Data columns (total 17 columns):\n",
      " #   Column                 Non-Null Count  Dtype  \n",
      "---  ------                 --------------  -----  \n",
      " 0   Customer_care_calls    2200 non-null   float64\n",
      " 1   Discount_offered       2200 non-null   float64\n",
      " 2   Weight_in_gms          2200 non-null   float64\n",
      " 3   profit                 2200 non-null   float64\n",
      " 4   profit_minus_discount  2200 non-null   float64\n",
      " 5   shipping_cost          2200 non-null   float64\n",
      " 6   is_expensive           2200 non-null   int64  \n",
      " 7   is_important           2200 non-null   int64  \n",
      " 8   cust_frequency         2200 non-null   int64  \n",
      " 9   Warehouse_block:B      2200 non-null   int64  \n",
      " 10  Warehouse_block:C      2200 non-null   int64  \n",
      " 11  Warehouse_block:D      2200 non-null   int64  \n",
      " 12  Warehouse_block:F      2200 non-null   int64  \n",
      " 13  Mode_of_Shipment:Road  2200 non-null   int64  \n",
      " 14  Mode_of_Shipment:Ship  2200 non-null   int64  \n",
      " 15  Gender                 2200 non-null   int64  \n",
      " 16  arrived_late           2200 non-null   int64  \n",
      "dtypes: float64(6), int64(11)\n",
      "memory usage: 292.3 KB\n"
     ]
    }
   ],
   "source": [
    "df_test_x_train.info()"
   ]
  },
  {
   "cell_type": "code",
   "execution_count": 5,
   "id": "328beb83-5579-4bc2-8d73-9669e5671db5",
   "metadata": {},
   "outputs": [],
   "source": [
    "#split X dan Y \n",
    "#moga2 split train sama testnya bener ya KWKWKWKWK\n",
    "\n",
    "X_train = df_train_x_train.drop('arrived_late', axis = 1)\n",
    "y_train = df_train_x_train['arrived_late']\n",
    "X_test = df_test_x_train.drop('arrived_late', axis = 1)\n",
    "y_test = df_test_x_train['arrived_late']"
   ]
  },
  {
   "cell_type": "markdown",
   "id": "34d64a0b",
   "metadata": {},
   "source": [
    "# FUNCTIONS"
   ]
  },
  {
   "cell_type": "code",
   "execution_count": 6,
   "id": "24dd5074",
   "metadata": {
    "ExecuteTime": {
     "end_time": "2022-06-11T00:38:55.374996Z",
     "start_time": "2022-06-11T00:38:55.371224Z"
    }
   },
   "outputs": [],
   "source": [
    "def eval_classification(model):\n",
    "    y_pred = model.predict(X_test)\n",
    "    y_pred_train = model.predict(X_train)\n",
    "    y_pred_proba = model.predict_proba(X_test)\n",
    "    y_pred_proba_train = model.predict_proba(X_train)\n",
    "    \n",
    "    print(\"Accuracy (Test Set): %.2f\" % accuracy_score(y_test, y_pred))\n",
    "    print(\"Precision (Test Set): %.2f\" % precision_score(y_test, y_pred))\n",
    "    print(\"Recall (Test Set): %.2f\" % recall_score(y_test, y_pred))\n",
    "    print(\"F1-Score (Test Set): %.2f\" % f1_score(y_test, y_pred))\n",
    "    \n",
    "    print(\"AUC (test-proba): %.2f\" % roc_auc_score(y_test, y_pred_proba[:, 1]))\n",
    "    print(\"AUC (train-proba): %.2f\" % roc_auc_score(y_train, y_pred_proba_train[:, 1]))\n",
    "#     print(\"AUC (test-label): %.2f\" % roc_auc_score(y_test, y_pred))\n",
    "#     print(\"AUC (train-label): %.2f\" % roc_auc_score(y_train, y_pred_train))\n",
    "    print('\\n------------------------\\n')\n",
    "    print(classification_report(y_test, y_pred))\n",
    "\n",
    "def show_feature_importance(model):\n",
    "    feat_importances = pd.Series(model.feature_importances_, index=X_train.columns)\n",
    "    ax = feat_importances.nlargest(25).plot(kind='barh', figsize=(10, 8))\n",
    "    ax.invert_yaxis()\n",
    "\n",
    "    plt.xlabel('score')\n",
    "    plt.ylabel('feature')\n",
    "    plt.title('feature importance score')\n",
    "    \n",
    "#feature importance untuk SVM\n",
    "def feature_plot(classifier, feature_names, top_features=8):\n",
    "    coef = classifier.coef_.ravel()\n",
    "    top_positive_coefficients = np.argsort(coef)[-top_features:]\n",
    "    top_negative_coefficients = np.argsort(coef)[:top_features]\n",
    "    top_coefficients = np.hstack([top_negative_coefficients, top_positive_coefficients])\n",
    "    plt.figure(figsize=(18, 7))\n",
    "    colors = ['red' if c < 0 else 'blue' for c in coef[top_coefficients]]\n",
    "    plt.bar(np.arange(2 * top_features), coef[top_coefficients], color=colors)\n",
    "    feature_names = np.array(feature_names)\n",
    "    plt.xticks(np.arange(0, 0 + 2 * top_features), feature_names[top_coefficients], rotation=45, ha='right')\n",
    "    plt.show()\n",
    "\n",
    "def show_best_hyperparameter(model):\n",
    "    print(model.best_estimator_.get_params())"
   ]
  },
  {
   "cell_type": "code",
   "execution_count": 7,
   "id": "0f97b35e",
   "metadata": {
    "ExecuteTime": {
     "end_time": "2022-06-11T00:40:57.139198Z",
     "start_time": "2022-06-11T00:40:57.125054Z"
    }
   },
   "outputs": [],
   "source": [
    "def draw_learning_curve(param_values):\n",
    "    train_scores = []\n",
    "    test_scores = []\n",
    "\n",
    "    for c in param_values:\n",
    "        model = LogisticRegression(penalty='l2', C=c)\n",
    "        model.fit(X_train, y_train)\n",
    "\n",
    "        # eval on train\n",
    "        y_pred_train_proba = model.predict_proba(X_train)\n",
    "        train_auc = roc_auc_score(y_train, y_pred_train_proba[:,1])\n",
    "        train_scores.append(train_auc)\n",
    "\n",
    "        # eval on test\n",
    "        y_pred_proba = model.predict_proba(X_test)\n",
    "        test_auc = roc_auc_score(y_test, y_pred_proba[:,1])\n",
    "        test_scores.append(test_auc)\n",
    "\n",
    "        print('param value: ' + str(c) + '; train: ' + str(train_auc) + '; test: '+ str(test_auc))\n",
    "\n",
    "    plt.plot(C, train_scores, label='Train')\n",
    "    plt.plot(C, test_scores, label='Test')\n",
    "    plt.legend()\n",
    "    plt.show()"
   ]
  },
  {
   "cell_type": "markdown",
   "id": "602a8356",
   "metadata": {},
   "source": [
    "# AdaBoost - Best Fit"
   ]
  },
  {
   "cell_type": "code",
   "execution_count": 8,
   "id": "55ae07a3",
   "metadata": {},
   "outputs": [],
   "source": [
    "ada = AdaBoostClassifier()"
   ]
  },
  {
   "cell_type": "code",
   "execution_count": 9,
   "id": "59c69d75-67a5-42c9-a8e7-0504b9f9fe0e",
   "metadata": {},
   "outputs": [
    {
     "name": "stdout",
     "output_type": "stream",
     "text": [
      "Accuracy (Test Set): 0.68\n",
      "Precision (Test Set): 0.82\n",
      "Recall (Test Set): 0.59\n",
      "F1-Score (Test Set): 0.69\n",
      "AUC (test-proba): 0.76\n",
      "AUC (train-proba): 0.76\n",
      "\n",
      "------------------------\n",
      "\n",
      "              precision    recall  f1-score   support\n",
      "\n",
      "           0       0.57      0.81      0.67       887\n",
      "           1       0.82      0.59      0.69      1313\n",
      "\n",
      "    accuracy                           0.68      2200\n",
      "   macro avg       0.70      0.70      0.68      2200\n",
      "weighted avg       0.72      0.68      0.68      2200\n",
      "\n"
     ]
    }
   ],
   "source": [
    "ada.fit(X_train,y_train)\n",
    "y_pred = ada.predict(X_test)\n",
    "eval_classification(ada)"
   ]
  },
  {
   "cell_type": "code",
   "execution_count": 10,
   "id": "07871c3c-a5c0-4fbd-ac23-845fbc77b666",
   "metadata": {},
   "outputs": [
    {
     "data": {
      "image/png": "[encoded data removed]",
      "text/plain": [
       "<Figure size 720x576 with 1 Axes>"
      ]
     },
     "metadata": {
      "needs_background": "light"
     },
     "output_type": "display_data"
    }
   ],
   "source": [
    "show_feature_importance(ada)"
   ]
  },
  {
   "cell_type": "code",
   "execution_count": 20,
   "id": "51d433de-bb37-4c53-93b8-c1e3ad7e4a8f",
   "metadata": {},
   "outputs": [
    {
     "data": {
      "text/plain": [
       "\"important_feature = ['Weight_in_gms', \\n                     'shipping_cost', \\n                     'profit', \\n                     'profit_minus_discount', \\n                     'Discount_offered', \\n                     'is_important', \\n                     'cust_frequency']\\n\\ntrain_fs = df_train_x_train[important_feature]\\ntest_fs = df_test_x_train[important_feature]\\ntrain_fs.to_csv('train_fs.csv', index = False)\\ntest_fs.to_csv('test_fs.csv', index = False)\""
      ]
     },
     "execution_count": 20,
     "metadata": {},
     "output_type": "execute_result"
    }
   ],
   "source": [
    "'''important_feature = ['Weight_in_gms', \n",
    "                     'shipping_cost', \n",
    "                     'profit', \n",
    "                     'profit_minus_discount', \n",
    "                     'Discount_offered', \n",
    "                     'is_important', \n",
    "                     'cust_frequency']\n",
    "\n",
    "train_fs = df_train_x_train[important_feature]\n",
    "test_fs = df_test_x_train[important_feature]\n",
    "train_fs.to_csv('train_fs.csv', index = False)\n",
    "test_fs.to_csv('test_fs.csv', index = False)'''"
   ]
  },
  {
   "cell_type": "markdown",
   "id": "4d51c44f-0a91-4ada-8bea-c2c35e175841",
   "metadata": {},
   "source": [
    "## Hasil adaboost lumayan, coba kita cek gridsearch"
   ]
  },
  {
   "cell_type": "code",
   "execution_count": 11,
   "id": "c81c53b2-8d88-4fec-8ee5-65d2d4b939ce",
   "metadata": {},
   "outputs": [
    {
     "data": {
      "text/plain": [
       "{'n_estimators': [10, 50, 100, 500],\n",
       " 'learning_rate': [0.0001, 0.001, 0.01, 0.1, 1],\n",
       " 'algorithm': ['SAMME', 'SAMME.R']}"
      ]
     },
     "execution_count": 11,
     "metadata": {},
     "output_type": "execute_result"
    }
   ],
   "source": [
    "from sklearn.metrics import precision_score, make_scorer\n",
    "from sklearn.model_selection import GridSearchCV\n",
    "from sklearn.model_selection import cross_val_score\n",
    "\n",
    "'''def precision_0(y, y_pred, **kwargs):\n",
    "    return precision_score(y, y_pred, pos_label = 0)'''\n",
    "\n",
    "prec_0 = make_scorer(precision_score, pos_label = 0)\n",
    "\n",
    "grid = dict()\n",
    "grid['n_estimators'] = [10,50,100,500]\n",
    "grid['learning_rate'] = [0.0001, 0.001, 0.01, 0.1, 1]\n",
    "grid['algorithm'] = ['SAMME', 'SAMME.R']\n",
    "\n",
    "grid"
   ]
  },
  {
   "cell_type": "code",
   "execution_count": 12,
   "id": "1b08d09c-f618-4582-af12-ccd67f993dd4",
   "metadata": {},
   "outputs": [
    {
     "name": "stdout",
     "output_type": "stream",
     "text": [
      "Best: 0.571426 using {'algorithm': 'SAMME', 'learning_rate': 1, 'n_estimators': 50}\n"
     ]
    }
   ],
   "source": [
    "grid_search = GridSearchCV(estimator=AdaBoostClassifier(),param_grid= grid, n_jobs=-1, cv=10, scoring=prec_0)\n",
    "grid_result = grid_search.fit(X_train,y_train)\n",
    "print('Best: %f using %s' % (grid_result.best_score_, grid_result.best_params_))"
   ]
  },
  {
   "cell_type": "code",
   "execution_count": 13,
   "id": "76649b76-cc67-4c53-a7a5-b7c97a7d464b",
   "metadata": {},
   "outputs": [
    {
     "name": "stdout",
     "output_type": "stream",
     "text": [
      "Best: 0.622667 using {'algorithm': 'SAMME.R', 'learning_rate': 0.01, 'n_estimators': 100}\n"
     ]
    }
   ],
   "source": [
    "grid_search = GridSearchCV(estimator=AdaBoostClassifier(),param_grid= grid, n_jobs=-1, cv=10, scoring='recall')\n",
    "grid_result = grid_search.fit(X_train,y_train)\n",
    "print('Best: %f using %s' % (grid_result.best_score_, grid_result.best_params_))"
   ]
  },
  {
   "cell_type": "code",
   "execution_count": 17,
   "id": "1c821fa1-d53c-42a0-b15e-5d4cf5ddf10b",
   "metadata": {},
   "outputs": [
    {
     "name": "stdout",
     "output_type": "stream",
     "text": [
      "Best: 0.745967 using {'algorithm': 'SAMME', 'learning_rate': 1, 'n_estimators': 500}\n"
     ]
    }
   ],
   "source": [
    "grid_search = GridSearchCV(estimator=AdaBoostClassifier(),param_grid= grid, n_jobs=-1, cv=10, scoring='roc_auc')\n",
    "grid_result = grid_search.fit(X_train,y_train)\n",
    "print('Best: %f using %s' % (grid_result.best_score_, grid_result.best_params_))"
   ]
  },
  {
   "cell_type": "markdown",
   "id": "2d747759",
   "metadata": {},
   "source": [
    "# Logistic Regression (Riyan) - Best Fit"
   ]
  },
  {
   "cell_type": "code",
   "execution_count": 14,
   "id": "2b9d05ad",
   "metadata": {},
   "outputs": [
    {
     "name": "stdout",
     "output_type": "stream",
     "text": [
      "Accuracy (Test Set): 0.64\n",
      "Precision (Test Set): 0.71\n",
      "Recall (Test Set): 0.68\n",
      "F1-Score (Test Set): 0.70\n",
      "AUC (test-proba): 0.72\n",
      "AUC (train-proba): 0.73\n",
      "\n",
      "------------------------\n",
      "\n",
      "              precision    recall  f1-score   support\n",
      "\n",
      "           0       0.55      0.58      0.57       887\n",
      "           1       0.71      0.68      0.70      1313\n",
      "\n",
      "    accuracy                           0.64      2200\n",
      "   macro avg       0.63      0.63      0.63      2200\n",
      "weighted avg       0.65      0.64      0.64      2200\n",
      "\n"
     ]
    }
   ],
   "source": [
    "model = LogisticRegression(random_state=42)\n",
    "model.fit(X_train, y_train)\n",
    "y_pred = model.predict(X_test)\n",
    "eval_classification(model)"
   ]
  },
  {
   "cell_type": "code",
   "execution_count": 15,
   "id": "404462d0-bb44-437f-8ef3-aa6373e6546d",
   "metadata": {},
   "outputs": [
    {
     "ename": "AttributeError",
     "evalue": "'LogisticRegression' object has no attribute 'feature_importances_'",
     "output_type": "error",
     "traceback": [
      "\u001b[1;31m---------------------------------------------------------------------------\u001b[0m",
      "\u001b[1;31mAttributeError\u001b[0m                            Traceback (most recent call last)",
      "Input \u001b[1;32mIn [15]\u001b[0m, in \u001b[0;36m<cell line: 1>\u001b[1;34m()\u001b[0m\n\u001b[1;32m----> 1\u001b[0m \u001b[43mshow_feature_importance\u001b[49m\u001b[43m(\u001b[49m\u001b[43mmodel\u001b[49m\u001b[43m)\u001b[49m\n",
      "Input \u001b[1;32mIn [6]\u001b[0m, in \u001b[0;36mshow_feature_importance\u001b[1;34m(model)\u001b[0m\n\u001b[0;32m     19\u001b[0m \u001b[38;5;28;01mdef\u001b[39;00m \u001b[38;5;21mshow_feature_importance\u001b[39m(model):\n\u001b[1;32m---> 20\u001b[0m     feat_importances \u001b[38;5;241m=\u001b[39m pd\u001b[38;5;241m.\u001b[39mSeries(\u001b[43mmodel\u001b[49m\u001b[38;5;241;43m.\u001b[39;49m\u001b[43mfeature_importances_\u001b[49m, index\u001b[38;5;241m=\u001b[39mX_train\u001b[38;5;241m.\u001b[39mcolumns)\n\u001b[0;32m     21\u001b[0m     ax \u001b[38;5;241m=\u001b[39m feat_importances\u001b[38;5;241m.\u001b[39mnlargest(\u001b[38;5;241m25\u001b[39m)\u001b[38;5;241m.\u001b[39mplot(kind\u001b[38;5;241m=\u001b[39m\u001b[38;5;124m'\u001b[39m\u001b[38;5;124mbarh\u001b[39m\u001b[38;5;124m'\u001b[39m, figsize\u001b[38;5;241m=\u001b[39m(\u001b[38;5;241m10\u001b[39m, \u001b[38;5;241m8\u001b[39m))\n\u001b[0;32m     22\u001b[0m     ax\u001b[38;5;241m.\u001b[39minvert_yaxis()\n",
      "\u001b[1;31mAttributeError\u001b[0m: 'LogisticRegression' object has no attribute 'feature_importances_'"
     ]
    }
   ],
   "source": [
    "show_feature_importance(model)\n",
    "# gak bisa pake show_feature_importance, temen\" ada opsi lain?"
   ]
  },
  {
   "cell_type": "markdown",
   "id": "cac645f6",
   "metadata": {},
   "source": [
    "# Decision Tree (Arsya)"
   ]
  },
  {
   "cell_type": "code",
   "execution_count": null,
   "id": "5cb85f38",
   "metadata": {},
   "outputs": [],
   "source": [
    "dt = DecisionTreeClassifier(random_state=42)\n",
    "dt.fit(X_train,y_train)\n",
    "\n",
    "y_pred = dt.predict(X_test)\n",
    "eval_classification(dt)"
   ]
  },
  {
   "cell_type": "code",
   "execution_count": null,
   "id": "88605afc-1f09-4d10-8025-9d939f45001c",
   "metadata": {},
   "outputs": [],
   "source": [
    "show_feature_importance(dt)"
   ]
  },
  {
   "cell_type": "markdown",
   "id": "1d9c415d",
   "metadata": {},
   "source": [
    "# Random Forest (Edo)"
   ]
  },
  {
   "cell_type": "code",
   "execution_count": null,
   "id": "00ba6d51-4709-488f-87c4-c25e1c04d5ac",
   "metadata": {},
   "outputs": [],
   "source": [
    "rf = RandomForestClassifier()\n",
    "rf.fit(X_train,y_train)\n",
    "y_pred = rf.predict(X_test)\n",
    "eval_classification(rf)"
   ]
  },
  {
   "cell_type": "code",
   "execution_count": null,
   "id": "866bb8e2-2d3c-4e02-9592-4f0fc7505368",
   "metadata": {},
   "outputs": [],
   "source": [
    "show_feature_importance(rf)"
   ]
  },
  {
   "cell_type": "markdown",
   "id": "2d358470-b020-48c2-8d5f-3f449a620721",
   "metadata": {},
   "source": [
    "# Support Vector Classification - Best Fit"
   ]
  },
  {
   "cell_type": "code",
   "execution_count": null,
   "id": "7646f99e-13b0-4fdc-833d-3d3fb1b5642f",
   "metadata": {},
   "outputs": [],
   "source": [
    "svc = SVC(kernel='linear',probability=True)\n",
    "svc.fit(X_train,y_train)\n",
    "\n",
    "\n",
    "y_pred = svc.predict(X_test)\n",
    "eval_classification(svc)"
   ]
  },
  {
   "cell_type": "markdown",
   "id": "99dae76e-ffb6-405d-91a7-42502bb3715f",
   "metadata": {},
   "source": [
    "Model dinilai telah mencapai best-fit, karena memiliki nilai AUC pada test & train yang tidak berbeda.\n",
    "\n",
    "Team mencari model yang dapat mengurangi nilai yang diprediksi akan 'on time' namun aktualnya telat. Hal tersebut dapat dilihat dari nilai precision terhadap '0' atau nilai recall terhadap '1'.\n",
    "Diketahui bahwa nilai precision terhadap '0' adalah 0.53 dan precision 0.42"
   ]
  },
  {
   "cell_type": "code",
   "execution_count": null,
   "id": "0c980eaa-3e86-409b-9126-5b10101cc056",
   "metadata": {},
   "outputs": [],
   "source": [
    "features_names= X_train.columns.values\n",
    "features_names"
   ]
  },
  {
   "cell_type": "code",
   "execution_count": null,
   "id": "ab26fc1b-8cb6-4223-8a88-9ac4fec81ecd",
   "metadata": {},
   "outputs": [],
   "source": [
    "feature_plot(svc, features_names)"
   ]
  },
  {
   "cell_type": "markdown",
   "id": "4c8e8a3f-774c-49bc-9f99-df1f64dd8ba8",
   "metadata": {},
   "source": [
    "dalam model menggunakan algoritma SVC, features discount_offered memiliki koefisien positive paling bermakna terhadap target. "
   ]
  },
  {
   "cell_type": "markdown",
   "id": "d8dd0d38",
   "metadata": {},
   "source": [
    "# K-Nearest Neighbor"
   ]
  },
  {
   "cell_type": "code",
   "execution_count": null,
   "id": "b55ecca1",
   "metadata": {},
   "outputs": [],
   "source": [
    "knn = KNeighborsClassifier()\n",
    "\n",
    "knn.fit(X_train,y_train)\n",
    "y_pred = knn.predict(X_test)\n",
    "eval_classification(knn)"
   ]
  },
  {
   "cell_type": "markdown",
   "id": "dda66f33",
   "metadata": {},
   "source": [
    "# XGBoost (Agas)"
   ]
  },
  {
   "cell_type": "code",
   "execution_count": null,
   "id": "e6d6c465",
   "metadata": {},
   "outputs": [],
   "source": [
    "xgb = XGBClassifier()\n",
    "xgb.fit(X_train,y_train)\n",
    "y_pred = xgb.predict(X_test)\n",
    "\n",
    "eval_classification(xgb)"
   ]
  },
  {
   "cell_type": "code",
   "execution_count": null,
   "id": "c6822f8c",
   "metadata": {},
   "outputs": [],
   "source": [
    "show_feature_importance(xgb)"
   ]
  }
 ],
 "metadata": {
  "kernelspec": {
   "display_name": "Python 3 (ipykernel)",
   "language": "python",
   "name": "python3"
  },
  "language_info": {
   "codemirror_mode": {
    "name": "ipython",
    "version": 3
   },
   "file_extension": ".py",
   "mimetype": "text/x-python",
   "name": "python",
   "nbconvert_exporter": "python",
   "pygments_lexer": "ipython3",
   "version": "3.9.12"
  },
  "latex_envs": {
   "LaTeX_envs_menu_present": true,
   "autoclose": false,
   "autocomplete": true,
   "bibliofile": "biblio.bib",
   "cite_by": "apalike",
   "current_citInitial": 1,
   "eqLabelWithNumbers": true,
   "eqNumInitial": 1,
   "hotkeys": {
    "equation": "Ctrl-E",
    "itemize": "Ctrl-I"
   },
   "labels_anchors": false,
   "latex_user_defs": false,
   "report_style_numbering": false,
   "user_envs_cfg": false
  },
  "toc": {
   "base_numbering": 1,
   "nav_menu": {},
   "number_sections": true,
   "sideBar": true,
   "skip_h1_title": false,
   "title_cell": "Table of Contents",
   "title_sidebar": "Contents",
   "toc_cell": false,
   "toc_position": {
    "height": "calc(100% - 180px)",
    "left": "10px",
    "top": "150px",
    "width": "165px"
   },
   "toc_section_display": true,
   "toc_window_display": true
  },
  "vscode": {
   "interpreter": {
    "hash": "40d3a090f54c6569ab1632332b64b2c03c39dcf918b08424e98f38b5ae0af88f"
   }
  }
 },
 "nbformat": 4,
 "nbformat_minor": 5
}
