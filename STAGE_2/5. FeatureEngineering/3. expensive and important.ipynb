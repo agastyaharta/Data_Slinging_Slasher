{
 "cells": [
  {
   "cell_type": "code",
   "execution_count": null,
   "id": "3c2148fd-4247-4eb4-bca7-8abc91875687",
   "metadata": {},
   "outputs": [],
   "source": [
    "expensive -> Cost of the product > Q3 Cost of the product"
   ]
  },
  {
   "cell_type": "code",
   "execution_count": null,
   "id": "f49c784b-7f71-4bf0-922b-a93512d988bd",
   "metadata": {},
   "outputs": [],
   "source": [
    "importance -> product importance high"
   ]
  },
  {
   "cell_type": "code",
   "execution_count": null,
   "id": "cfc2ff71-9aff-4578-90a3-16f80fdf2260",
   "metadata": {},
   "outputs": [],
   "source": [
    "expensive and important -> cost of the product > Q3, product importance high"
   ]
  }
 ],
 "metadata": {
  "kernelspec": {
   "display_name": "Python 3 (ipykernel)",
   "language": "python",
   "name": "python3"
  },
  "language_info": {
   "codemirror_mode": {
    "name": "ipython",
    "version": 3
   },
   "file_extension": ".py",
   "mimetype": "text/x-python",
   "name": "python",
   "nbconvert_exporter": "python",
   "pygments_lexer": "ipython3",
   "version": "3.9.12"
  }
 },
 "nbformat": 4,
 "nbformat_minor": 5
}
