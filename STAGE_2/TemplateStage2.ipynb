{
  "nbformat": 4,
  "nbformat_minor": 0,
  "metadata": {
    "colab": {
      "name": "TEMPLATE_STAGE1.ipynb",
      "provenance": []
    },
    "kernelspec": {
      "name": "python3",
      "display_name": "Python 3"
    },
    "language_info": {
      "name": "python"
    }
  },
  "cells": [
    {
      "cell_type": "markdown",
      "source": [
        "Handling Outliers: Mas Almas"
      ],
      "metadata": {
        "id": "sQkz5GRw877l"
      }
    },
    {
      "cell_type": "code",
      "source": [
        ""
      ],
      "metadata": {
        "id": "NkY54HP89owq"
      },
      "execution_count": null,
      "outputs": []
    },
    {
      "cell_type": "markdown",
      "source": [
        "Feature Transformation: Edo & Adhan"
      ],
      "metadata": {
        "id": "MOIoyj3I9WPt"
      }
    },
    {
      "cell_type": "code",
      "source": [
        ""
      ],
      "metadata": {
        "id": "WRBHPiDg9pOp"
      },
      "execution_count": null,
      "outputs": []
    },
    {
      "cell_type": "markdown",
      "source": [
        "Feature Encoding: Agastya"
      ],
      "metadata": {
        "id": "1ZK6v-hd-YhV"
      }
    },
    {
      "cell_type": "code",
      "source": [
        ""
      ],
      "metadata": {
        "id": "7fROyOw7-av4"
      },
      "execution_count": null,
      "outputs": []
    },
    {
      "cell_type": "markdown",
      "source": [
        "Feature Engineering: Arya, Almas, Afif"
      ],
      "metadata": {
        "id": "7wxH_Z4W-b-R"
      }
    },
    {
      "cell_type": "code",
      "source": [
        ""
      ],
      "metadata": {
        "id": "iwAAf4-a-f2s"
      },
      "execution_count": null,
      "outputs": []
    },
    {
      "cell_type": "markdown",
      "source": [
        "Class Imbalande: Riyan"
      ],
      "metadata": {
        "id": "SBQJXKDW-gJc"
      }
    },
    {
      "cell_type": "code",
      "source": [
        ""
      ],
      "metadata": {
        "id": "4tjD7vHV-prI"
      },
      "execution_count": null,
      "outputs": []
    }
  ]
}
